{
 "cells": [
  {
   "cell_type": "markdown",
   "id": "82f33861",
   "metadata": {},
   "source": [
    "# Построение спектров Rrs осредненных по области"
   ]
  },
  {
   "cell_type": "code",
   "execution_count": 466,
   "id": "720c0b14",
   "metadata": {},
   "outputs": [],
   "source": [
    "import numpy as np\n",
    "import pandas as pd\n",
    "import matplotlib.pyplot as plt\n",
    "from os import path"
   ]
  },
  {
   "cell_type": "code",
   "execution_count": null,
   "id": "ced4b416",
   "metadata": {},
   "outputs": [],
   "source": []
  },
  {
   "cell_type": "markdown",
   "id": "bd5ac19f",
   "metadata": {},
   "source": [
    "## input data"
   ]
  },
  {
   "cell_type": "code",
   "execution_count": 467,
   "id": "c04b97e8",
   "metadata": {},
   "outputs": [],
   "source": [
    "# change these fields\n",
    "current_date = '31.05.2022'\n",
    "satellite_label = 'S3B'\n",
    "BASE_DIR = '/media/data1/laboratory/results/aerosol-2022/'  # mhi\n",
    "#BASE_DIR = '/media/data/gorky/aerosol-2022/'  # home\n",
    "\n",
    "# datafile with rrs calculated by 2nd-percentile AOT in area\n",
    "second_perc_file = 'Rrs_area_ac-8_4'\n",
    "# datafile with rrs calculated by measured AOT in area\n",
    "measured_aot_file = 'Rrs_area_ac-8_2'"
   ]
  },
  {
   "cell_type": "code",
   "execution_count": 468,
   "id": "d592ee48",
   "metadata": {},
   "outputs": [],
   "source": [
    "# static input fields\n",
    "data_dir = path.join(BASE_DIR, 'l2gen/results/Rrs')\n",
    "\n",
    "# formatted date\n",
    "date_formated = {'31.05.2022': '31 May 2022', '24.06.2022': '24 June 2022',\n",
    "            '27.07.2022': '27 July 2022', '01.08.2022': '01 August 2022',\n",
    "            '02.08.2022': '02 August 2022', '08.08.2022': '08 August 2022'}"
   ]
  },
  {
   "cell_type": "code",
   "execution_count": 469,
   "id": "6ac651c6",
   "metadata": {},
   "outputs": [],
   "source": [
    "# dynamic input fields\n",
    "day, month, year = current_date.split('.')\n",
    "\n",
    "# datafile with rrs calculated by 5th-percentile AOT\n",
    "#fname_rrs_ac8 = f'{satellite_label}_{year}-{month}-{day}_Rrs_area_ac-8.txt'\n",
    "\n",
    "# datafile with rrs calculated by 2nd-percentile AOT\n",
    "#fname_rrs_ac8 = f'{satellite_label}_{year}-{month}-{day}_Rrs_area_ac-8_3.txt'\n",
    "\n",
    "# datafile with rrs calculated by 2nd-percentile AOT in area\n",
    "fname_rrs_2nd_perc = f'{satellite_label}_{year}-{month}-{day}_{second_perc_file}.txt'\n",
    "\n",
    "# datafile with rrs calculated by measured AOT\n",
    "fname_rrs_meas_aot = f'{satellite_label}_{year}-{month}-{day}_{measured_aot_file}.txt'\n",
    "\n",
    "fname_rrs_2nd_perc = path.join(data_dir, fname_rrs_2nd_perc)\n",
    "fname_rrs_meas_aot = path.join(data_dir, fname_rrs_meas_aot)"
   ]
  },
  {
   "cell_type": "code",
   "execution_count": null,
   "id": "38f4e169",
   "metadata": {},
   "outputs": [],
   "source": []
  },
  {
   "cell_type": "markdown",
   "id": "54247577",
   "metadata": {},
   "source": [
    "## Open files, calculate min, mean, max spectra Rrs in area"
   ]
  },
  {
   "cell_type": "code",
   "execution_count": 470,
   "id": "7a3dccfd",
   "metadata": {},
   "outputs": [],
   "source": [
    "# use columns for Rrs\n",
    "usecolumns = range(4,16)\n",
    "# names of columns\n",
    "column_names = [400, 412, 443, 490, 510, 560, 620, 665, 674, 682, 709, 754]"
   ]
  },
  {
   "cell_type": "code",
   "execution_count": 471,
   "id": "b5fbb6a1",
   "metadata": {},
   "outputs": [],
   "source": [
    "# TODO можно сделать в цикле считывание rrs_table[0,1], а потом rrs_statistics\n",
    "rrs_2nd_perc = pd.read_csv(fname_rrs_2nd_perc, sep='\\t', usecols=usecolumns, header=0, names=column_names)\n",
    "rrs_2nd_perc = rrs_2nd_perc.dropna(how='all')"
   ]
  },
  {
   "cell_type": "code",
   "execution_count": 472,
   "id": "4d4142c6",
   "metadata": {},
   "outputs": [
    {
     "data": {
      "text/html": [
       "<div>\n",
       "<style scoped>\n",
       "    .dataframe tbody tr th:only-of-type {\n",
       "        vertical-align: middle;\n",
       "    }\n",
       "\n",
       "    .dataframe tbody tr th {\n",
       "        vertical-align: top;\n",
       "    }\n",
       "\n",
       "    .dataframe thead th {\n",
       "        text-align: right;\n",
       "    }\n",
       "</style>\n",
       "<table border=\"1\" class=\"dataframe\">\n",
       "  <thead>\n",
       "    <tr style=\"text-align: right;\">\n",
       "      <th></th>\n",
       "      <th>400</th>\n",
       "      <th>412</th>\n",
       "      <th>443</th>\n",
       "      <th>490</th>\n",
       "      <th>510</th>\n",
       "      <th>560</th>\n",
       "      <th>620</th>\n",
       "      <th>665</th>\n",
       "      <th>674</th>\n",
       "      <th>682</th>\n",
       "      <th>709</th>\n",
       "      <th>754</th>\n",
       "    </tr>\n",
       "  </thead>\n",
       "  <tbody>\n",
       "    <tr>\n",
       "      <th>0</th>\n",
       "      <td>-0.001596</td>\n",
       "      <td>-0.000878</td>\n",
       "      <td>0.000790</td>\n",
       "      <td>0.001638</td>\n",
       "      <td>0.002012</td>\n",
       "      <td>0.003020</td>\n",
       "      <td>0.003150</td>\n",
       "      <td>0.002914</td>\n",
       "      <td>0.002988</td>\n",
       "      <td>0.003014</td>\n",
       "      <td>0.002700</td>\n",
       "      <td>0.002436</td>\n",
       "    </tr>\n",
       "    <tr>\n",
       "      <th>1</th>\n",
       "      <td>-0.001596</td>\n",
       "      <td>-0.000878</td>\n",
       "      <td>0.000790</td>\n",
       "      <td>0.001638</td>\n",
       "      <td>0.002012</td>\n",
       "      <td>0.003020</td>\n",
       "      <td>0.003150</td>\n",
       "      <td>0.002914</td>\n",
       "      <td>0.002988</td>\n",
       "      <td>0.003014</td>\n",
       "      <td>0.002700</td>\n",
       "      <td>0.002436</td>\n",
       "    </tr>\n",
       "    <tr>\n",
       "      <th>2</th>\n",
       "      <td>-0.001760</td>\n",
       "      <td>-0.000862</td>\n",
       "      <td>0.000846</td>\n",
       "      <td>0.001510</td>\n",
       "      <td>0.001958</td>\n",
       "      <td>0.003102</td>\n",
       "      <td>0.002976</td>\n",
       "      <td>0.002818</td>\n",
       "      <td>0.002860</td>\n",
       "      <td>0.002806</td>\n",
       "      <td>0.002688</td>\n",
       "      <td>0.002584</td>\n",
       "    </tr>\n",
       "    <tr>\n",
       "      <th>3</th>\n",
       "      <td>-0.001760</td>\n",
       "      <td>-0.000862</td>\n",
       "      <td>0.000846</td>\n",
       "      <td>0.001510</td>\n",
       "      <td>0.001958</td>\n",
       "      <td>0.003102</td>\n",
       "      <td>0.002976</td>\n",
       "      <td>0.002818</td>\n",
       "      <td>0.002860</td>\n",
       "      <td>0.002806</td>\n",
       "      <td>0.002688</td>\n",
       "      <td>0.002584</td>\n",
       "    </tr>\n",
       "    <tr>\n",
       "      <th>4</th>\n",
       "      <td>-0.001352</td>\n",
       "      <td>-0.000516</td>\n",
       "      <td>0.000804</td>\n",
       "      <td>0.001952</td>\n",
       "      <td>0.002126</td>\n",
       "      <td>0.003370</td>\n",
       "      <td>0.003234</td>\n",
       "      <td>0.003038</td>\n",
       "      <td>0.002974</td>\n",
       "      <td>0.002908</td>\n",
       "      <td>0.002984</td>\n",
       "      <td>0.003514</td>\n",
       "    </tr>\n",
       "  </tbody>\n",
       "</table>\n",
       "</div>"
      ],
      "text/plain": [
       "        400       412       443       490       510       560       620  \\\n",
       "0 -0.001596 -0.000878  0.000790  0.001638  0.002012  0.003020  0.003150   \n",
       "1 -0.001596 -0.000878  0.000790  0.001638  0.002012  0.003020  0.003150   \n",
       "2 -0.001760 -0.000862  0.000846  0.001510  0.001958  0.003102  0.002976   \n",
       "3 -0.001760 -0.000862  0.000846  0.001510  0.001958  0.003102  0.002976   \n",
       "4 -0.001352 -0.000516  0.000804  0.001952  0.002126  0.003370  0.003234   \n",
       "\n",
       "        665       674       682       709       754  \n",
       "0  0.002914  0.002988  0.003014  0.002700  0.002436  \n",
       "1  0.002914  0.002988  0.003014  0.002700  0.002436  \n",
       "2  0.002818  0.002860  0.002806  0.002688  0.002584  \n",
       "3  0.002818  0.002860  0.002806  0.002688  0.002584  \n",
       "4  0.003038  0.002974  0.002908  0.002984  0.003514  "
      ]
     },
     "execution_count": 472,
     "metadata": {},
     "output_type": "execute_result"
    }
   ],
   "source": [
    "rrs_2nd_perc.head()"
   ]
  },
  {
   "cell_type": "code",
   "execution_count": 473,
   "id": "4eeecfda",
   "metadata": {},
   "outputs": [],
   "source": [
    "statistics = {'min': rrs_2nd_perc.min(),\n",
    "             'median': rrs_2nd_perc.median(),\n",
    "             'max': rrs_2nd_perc.max(),\n",
    "             'mean': rrs_2nd_perc.mean(),}"
   ]
  },
  {
   "cell_type": "code",
   "execution_count": 474,
   "id": "368ff1bf",
   "metadata": {},
   "outputs": [],
   "source": [
    "rrs_2nd_perc_statistic = pd.DataFrame(statistics)"
   ]
  },
  {
   "cell_type": "code",
   "execution_count": 475,
   "id": "245fb97f",
   "metadata": {},
   "outputs": [
    {
     "data": {
      "text/html": [
       "<div>\n",
       "<style scoped>\n",
       "    .dataframe tbody tr th:only-of-type {\n",
       "        vertical-align: middle;\n",
       "    }\n",
       "\n",
       "    .dataframe tbody tr th {\n",
       "        vertical-align: top;\n",
       "    }\n",
       "\n",
       "    .dataframe thead th {\n",
       "        text-align: right;\n",
       "    }\n",
       "</style>\n",
       "<table border=\"1\" class=\"dataframe\">\n",
       "  <thead>\n",
       "    <tr style=\"text-align: right;\">\n",
       "      <th></th>\n",
       "      <th>400</th>\n",
       "      <th>412</th>\n",
       "      <th>443</th>\n",
       "      <th>490</th>\n",
       "      <th>510</th>\n",
       "      <th>560</th>\n",
       "      <th>620</th>\n",
       "      <th>665</th>\n",
       "      <th>674</th>\n",
       "      <th>682</th>\n",
       "      <th>709</th>\n",
       "      <th>754</th>\n",
       "    </tr>\n",
       "  </thead>\n",
       "  <tbody>\n",
       "    <tr>\n",
       "      <th>min</th>\n",
       "      <td>-0.001760</td>\n",
       "      <td>-0.000878</td>\n",
       "      <td>0.000628</td>\n",
       "      <td>0.001510</td>\n",
       "      <td>0.001938</td>\n",
       "      <td>0.002960</td>\n",
       "      <td>0.002976</td>\n",
       "      <td>0.002818</td>\n",
       "      <td>0.002860</td>\n",
       "      <td>0.002806</td>\n",
       "      <td>0.002682</td>\n",
       "      <td>0.002436</td>\n",
       "    </tr>\n",
       "    <tr>\n",
       "      <th>median</th>\n",
       "      <td>-0.000546</td>\n",
       "      <td>0.000356</td>\n",
       "      <td>0.001632</td>\n",
       "      <td>0.002492</td>\n",
       "      <td>0.002741</td>\n",
       "      <td>0.003850</td>\n",
       "      <td>0.003813</td>\n",
       "      <td>0.003658</td>\n",
       "      <td>0.003644</td>\n",
       "      <td>0.003650</td>\n",
       "      <td>0.003495</td>\n",
       "      <td>0.003804</td>\n",
       "    </tr>\n",
       "    <tr>\n",
       "      <th>max</th>\n",
       "      <td>0.000626</td>\n",
       "      <td>0.001272</td>\n",
       "      <td>0.002602</td>\n",
       "      <td>0.003416</td>\n",
       "      <td>0.003606</td>\n",
       "      <td>0.004882</td>\n",
       "      <td>0.004832</td>\n",
       "      <td>0.004670</td>\n",
       "      <td>0.004646</td>\n",
       "      <td>0.004630</td>\n",
       "      <td>0.004918</td>\n",
       "      <td>0.006440</td>\n",
       "    </tr>\n",
       "    <tr>\n",
       "      <th>mean</th>\n",
       "      <td>-0.000576</td>\n",
       "      <td>0.000247</td>\n",
       "      <td>0.001587</td>\n",
       "      <td>0.002465</td>\n",
       "      <td>0.002686</td>\n",
       "      <td>0.003825</td>\n",
       "      <td>0.003780</td>\n",
       "      <td>0.003640</td>\n",
       "      <td>0.003605</td>\n",
       "      <td>0.003629</td>\n",
       "      <td>0.003504</td>\n",
       "      <td>0.003883</td>\n",
       "    </tr>\n",
       "  </tbody>\n",
       "</table>\n",
       "</div>"
      ],
      "text/plain": [
       "             400       412       443       490       510       560       620  \\\n",
       "min    -0.001760 -0.000878  0.000628  0.001510  0.001938  0.002960  0.002976   \n",
       "median -0.000546  0.000356  0.001632  0.002492  0.002741  0.003850  0.003813   \n",
       "max     0.000626  0.001272  0.002602  0.003416  0.003606  0.004882  0.004832   \n",
       "mean   -0.000576  0.000247  0.001587  0.002465  0.002686  0.003825  0.003780   \n",
       "\n",
       "             665       674       682       709       754  \n",
       "min     0.002818  0.002860  0.002806  0.002682  0.002436  \n",
       "median  0.003658  0.003644  0.003650  0.003495  0.003804  \n",
       "max     0.004670  0.004646  0.004630  0.004918  0.006440  \n",
       "mean    0.003640  0.003605  0.003629  0.003504  0.003883  "
      ]
     },
     "execution_count": 475,
     "metadata": {},
     "output_type": "execute_result"
    }
   ],
   "source": [
    "rrs_2nd_perc_statistic.T"
   ]
  },
  {
   "cell_type": "code",
   "execution_count": null,
   "id": "858f6dea",
   "metadata": {},
   "outputs": [],
   "source": []
  },
  {
   "cell_type": "code",
   "execution_count": 476,
   "id": "109ffb88",
   "metadata": {},
   "outputs": [],
   "source": [
    "rrs_meas_aot = pd.read_csv(fname_rrs_meas_aot, sep='\\t', usecols=usecolumns, header=0, names=column_names)\n",
    "rrs_meas_aot = rrs_meas_aot.dropna(how='all')"
   ]
  },
  {
   "cell_type": "code",
   "execution_count": 477,
   "id": "48cf5f0d",
   "metadata": {},
   "outputs": [],
   "source": [
    "statistics = {'min': rrs_meas_aot.min(),\n",
    "             'median': rrs_meas_aot.median(),\n",
    "             'max': rrs_meas_aot.max(),\n",
    "             'mean': rrs_meas_aot.mean(),}"
   ]
  },
  {
   "cell_type": "code",
   "execution_count": 478,
   "id": "f10a3a3b",
   "metadata": {},
   "outputs": [],
   "source": [
    "rrs_meas_aot_statistic = pd.DataFrame(statistics)"
   ]
  },
  {
   "cell_type": "code",
   "execution_count": 479,
   "id": "b2b14877",
   "metadata": {},
   "outputs": [],
   "source": [
    "import matplotlib.pyplot as plt"
   ]
  },
  {
   "cell_type": "code",
   "execution_count": 480,
   "id": "72f1f88b",
   "metadata": {},
   "outputs": [
    {
     "data": {
      "image/png": "[encoded data removed]",
      "text/plain": [
       "<Figure size 500x350 with 1 Axes>"
      ]
     },
     "metadata": {
      "needs_background": "light"
     },
     "output_type": "display_data"
    }
   ],
   "source": [
    "plt.figure(dpi=100, figsize=(5,3.5))\n",
    "ax = plt.axes()\n",
    "plt.plot(rrs_2nd_perc_statistic['min'], label='min')\n",
    "plt.plot(rrs_2nd_perc_statistic['median'], label='median')\n",
    "plt.plot(rrs_2nd_perc_statistic['max'], label='max')\n",
    "ax.tick_params(axis='both', direction='in')\n",
    "plt.ylabel(\"Rrs, 1/sr\", fontsize=14)\n",
    "plt.xlabel(\"Wavelength, nm\", fontsize=14)\n",
    "ax.grid(True, linestyle='--')\n",
    "plt.title(date_formated[current_date], fontsize=14)\n",
    "plt.legend(frameon=False)\n",
    "\n",
    "img_name = path.join(data_dir, f'Rrs_{satellite_label}_{year}-{month}-{day}_area2.png')\n",
    "plt.savefig(img_name, dpi=300, bbox_inches='tight')\n",
    "plt.show()"
   ]
  },
  {
   "cell_type": "code",
   "execution_count": null,
   "id": "fa10b2ba",
   "metadata": {},
   "outputs": [],
   "source": []
  },
  {
   "cell_type": "code",
   "execution_count": 481,
   "id": "c95689da",
   "metadata": {},
   "outputs": [],
   "source": [
    "relative_difference = abs(rrs_2nd_perc_statistic - rrs_meas_aot_statistic)/rrs_meas_aot_statistic*100"
   ]
  },
  {
   "cell_type": "code",
   "execution_count": 482,
   "id": "3a1d559e",
   "metadata": {},
   "outputs": [
    {
     "data": {
      "text/html": [
       "<div>\n",
       "<style scoped>\n",
       "    .dataframe tbody tr th:only-of-type {\n",
       "        vertical-align: middle;\n",
       "    }\n",
       "\n",
       "    .dataframe tbody tr th {\n",
       "        vertical-align: top;\n",
       "    }\n",
       "\n",
       "    .dataframe thead th {\n",
       "        text-align: right;\n",
       "    }\n",
       "</style>\n",
       "<table border=\"1\" class=\"dataframe\">\n",
       "  <thead>\n",
       "    <tr style=\"text-align: right;\">\n",
       "      <th></th>\n",
       "      <th>min</th>\n",
       "      <th>median</th>\n",
       "      <th>max</th>\n",
       "      <th>mean</th>\n",
       "    </tr>\n",
       "  </thead>\n",
       "  <tbody>\n",
       "    <tr>\n",
       "      <th>400</th>\n",
       "      <td>-187.581961</td>\n",
       "      <td>190.848303</td>\n",
       "      <td>64.592729</td>\n",
       "      <td>200.727211</td>\n",
       "    </tr>\n",
       "    <tr>\n",
       "      <th>412</th>\n",
       "      <td>510.278285</td>\n",
       "      <td>75.414319</td>\n",
       "      <td>46.192878</td>\n",
       "      <td>81.575454</td>\n",
       "    </tr>\n",
       "    <tr>\n",
       "      <th>443</th>\n",
       "      <td>60.303379</td>\n",
       "      <td>36.695097</td>\n",
       "      <td>26.497166</td>\n",
       "      <td>37.339210</td>\n",
       "    </tr>\n",
       "    <tr>\n",
       "      <th>490</th>\n",
       "      <td>31.920633</td>\n",
       "      <td>21.929819</td>\n",
       "      <td>16.885643</td>\n",
       "      <td>22.124414</td>\n",
       "    </tr>\n",
       "    <tr>\n",
       "      <th>510</th>\n",
       "      <td>24.591434</td>\n",
       "      <td>18.568032</td>\n",
       "      <td>14.590238</td>\n",
       "      <td>18.880451</td>\n",
       "    </tr>\n",
       "    <tr>\n",
       "      <th>560</th>\n",
       "      <td>12.889931</td>\n",
       "      <td>10.088742</td>\n",
       "      <td>7.921538</td>\n",
       "      <td>10.081793</td>\n",
       "    </tr>\n",
       "    <tr>\n",
       "      <th>620</th>\n",
       "      <td>8.711654</td>\n",
       "      <td>6.635652</td>\n",
       "      <td>5.180533</td>\n",
       "      <td>6.747336</td>\n",
       "    </tr>\n",
       "    <tr>\n",
       "      <th>665</th>\n",
       "      <td>5.815506</td>\n",
       "      <td>4.240839</td>\n",
       "      <td>3.192379</td>\n",
       "      <td>4.286525</td>\n",
       "    </tr>\n",
       "    <tr>\n",
       "      <th>674</th>\n",
       "      <td>5.235257</td>\n",
       "      <td>3.750659</td>\n",
       "      <td>2.884615</td>\n",
       "      <td>3.916170</td>\n",
       "    </tr>\n",
       "    <tr>\n",
       "      <th>682</th>\n",
       "      <td>4.752202</td>\n",
       "      <td>3.413601</td>\n",
       "      <td>2.608329</td>\n",
       "      <td>3.510671</td>\n",
       "    </tr>\n",
       "    <tr>\n",
       "      <th>709</th>\n",
       "      <td>3.106932</td>\n",
       "      <td>2.128256</td>\n",
       "      <td>1.403368</td>\n",
       "      <td>2.129726</td>\n",
       "    </tr>\n",
       "    <tr>\n",
       "      <th>754</th>\n",
       "      <td>2.181203</td>\n",
       "      <td>1.548318</td>\n",
       "      <td>1.035456</td>\n",
       "      <td>1.493532</td>\n",
       "    </tr>\n",
       "  </tbody>\n",
       "</table>\n",
       "</div>"
      ],
      "text/plain": [
       "            min      median        max        mean\n",
       "400 -187.581961  190.848303  64.592729  200.727211\n",
       "412  510.278285   75.414319  46.192878   81.575454\n",
       "443   60.303379   36.695097  26.497166   37.339210\n",
       "490   31.920633   21.929819  16.885643   22.124414\n",
       "510   24.591434   18.568032  14.590238   18.880451\n",
       "560   12.889931   10.088742   7.921538   10.081793\n",
       "620    8.711654    6.635652   5.180533    6.747336\n",
       "665    5.815506    4.240839   3.192379    4.286525\n",
       "674    5.235257    3.750659   2.884615    3.916170\n",
       "682    4.752202    3.413601   2.608329    3.510671\n",
       "709    3.106932    2.128256   1.403368    2.129726\n",
       "754    2.181203    1.548318   1.035456    1.493532"
      ]
     },
     "execution_count": 482,
     "metadata": {},
     "output_type": "execute_result"
    }
   ],
   "source": [
    "relative_difference"
   ]
  },
  {
   "cell_type": "code",
   "execution_count": null,
   "id": "42b228de",
   "metadata": {},
   "outputs": [],
   "source": []
  },
  {
   "cell_type": "code",
   "execution_count": 483,
   "id": "73c6f488",
   "metadata": {},
   "outputs": [],
   "source": [
    "ofile = f'Rrs-difference_{satellite_label}_{year}-{month}-{day}_area2.csv'\n",
    "ofile = path.join(data_dir, ofile)\n",
    "relative_difference.to_csv(ofile, sep='\\t')"
   ]
  },
  {
   "cell_type": "code",
   "execution_count": null,
   "id": "e337e3a1",
   "metadata": {},
   "outputs": [],
   "source": []
  }
 ],
 "metadata": {
  "kernelspec": {
   "display_name": "Python 3 (ipykernel)",
   "language": "python",
   "name": "python3"
  },
  "language_info": {
   "codemirror_mode": {
    "name": "ipython",
    "version": 3
   },
   "file_extension": ".py",
   "mimetype": "text/x-python",
   "name": "python",
   "nbconvert_exporter": "python",
   "pygments_lexer": "ipython3",
   "version": "3.7.13"
  }
 },
 "nbformat": 4,
 "nbformat_minor": 5
}
